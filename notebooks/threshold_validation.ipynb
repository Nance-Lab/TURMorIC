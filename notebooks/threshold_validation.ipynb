{
 "cells": [
  {
   "cell_type": "code",
   "execution_count": null,
   "id": "fb043d93",
   "metadata": {},
   "outputs": [],
   "source": [
    "import os\n",
    "import numpy as np\n",
    "import tifffile as tiff\n",
    "import matplotlib.pyplot as plt\n",
    "from pathlib import Path\n",
    "from turmoric.apply_thresholds import apply_li_threshold\n",
    "from skimage import filters\n",
    "from skimage.segmentation import clear_border\n",
    "from skimage.morphology import remove_small_objects\n",
    "from skimage.measure import block_reduce, label, regionprops\n",
    "from scipy import ndimage"
   ]
  },
  {
   "cell_type": "code",
   "execution_count": null,
   "id": "056a105a",
   "metadata": {},
   "outputs": [],
   "source": [
    "def create_microglia_mask(image, threshold_method=filters.threshold_li):\n",
    "\n",
    "    thresh_li = threshold_method(image)\n",
    "    binary_li = image > thresh_li\n",
    "\n",
    "    objects = label(binary_li)\n",
    "    objects = clear_border(objects)\n",
    "    large_objects = remove_small_objects(objects, min_size=50000)\n",
    "    small_objects = label((objects ^ large_objects) > thresh_li)\n",
    "\n",
    "    binary_li = ndimage.binary_fill_holes(remove_small_objects(small_objects > thresh_li, min_size=500))\n",
    "\n",
    "    #scaled_img = ((image - image.min()) * (1/(image.max() - image.min()) * 255)).astype('uint8')\n",
    "    #hist = np.histogram(scaled_img.flatten(), range=[0,50], bins=50)\n",
    "    return binary_li"
   ]
  },
  {
   "cell_type": "code",
   "execution_count": null,
   "id": "f0fe97f8",
   "metadata": {},
   "outputs": [],
   "source": [
    "def get_object_sizes(image, threshold_method=filters.threshold_li):\n",
    "\n",
    "    thresh_li = threshold_method(image)\n",
    "    binary_li = image > thresh_li\n",
    "    binary_li = ndimage.binary_fill_holes(remove_small_objects(binary_li, min_size=500))\n",
    "\n",
    "    objects = label(binary_li)\n",
    "    objects = clear_border(objects)\n",
    "    \n",
    "    props = regionprops(objects)\n",
    "\n",
    "    # Get sizes for each label\n",
    "    label_sizes = [prop.area for prop in props]\n",
    "    return label_sizes"
   ]
  },
  {
   "cell_type": "code",
   "execution_count": null,
   "id": "b5f5a2a8",
   "metadata": {},
   "outputs": [],
   "source": [
    "files = Path(\"/Users/nelsschimek/Documents/nancelab/Data/tommy_data/Sham_3/Left_HC\")\n"
   ]
  },
  {
   "cell_type": "code",
   "execution_count": null,
   "id": "839d3c2d",
   "metadata": {},
   "outputs": [],
   "source": [
    "npy_files = list(files.glob(\"*.tif\"))\n",
    "\n",
    "# If you want full paths as strings:\n",
    "npy_file_paths = [str(f) for f in npy_files]\n",
    "(npy_file_paths)"
   ]
  },
  {
   "cell_type": "code",
   "execution_count": null,
   "id": "6316ee86",
   "metadata": {},
   "outputs": [],
   "source": [
    "microglia_images = [tiff.imread(f) for f in sorted(npy_file_paths)]\n",
    "print(len(microglia_images))"
   ]
  },
  {
   "cell_type": "code",
   "execution_count": null,
   "id": "4aa9d57c",
   "metadata": {},
   "outputs": [],
   "source": [
    "mean_masks = [create_microglia_mask(f, threshold_method=filters.threshold_mean) for f in microglia_images]\n",
    "li_masks = [create_microglia_mask(f, threshold_method=filters.threshold_li) for f in microglia_images]\n"
   ]
  },
  {
   "cell_type": "code",
   "execution_count": null,
   "id": "98a5f120",
   "metadata": {},
   "outputs": [],
   "source": [
    "sizes = get_object_sizes(microglia_images[1])\n",
    "min(sizes)"
   ]
  },
  {
   "cell_type": "code",
   "execution_count": null,
   "id": "c73ffc29",
   "metadata": {},
   "outputs": [],
   "source": [
    "plt.hist((sizes))"
   ]
  },
  {
   "cell_type": "code",
   "execution_count": null,
   "id": "12d327eb",
   "metadata": {},
   "outputs": [],
   "source": [
    "columns = 3\n",
    "rows = len(li_masks)\n",
    "\n",
    "fig, axes = plt.subplots(len(li_masks), columns, figsize=(10*columns, rows*10))\n",
    "for ax, li, mean, raw in zip(axes, li_masks, mean_masks, microglia_images):\n",
    "    ax[0].imshow(raw > filters.threshold_li(raw), cmap=\"gray\")\n",
    "    ax[1].imshow(mean, cmap=\"gray\")\n",
    "    ax[2].imshow(li, cmap=\"gray\")"
   ]
  },
  {
   "cell_type": "code",
   "execution_count": null,
   "id": "7170cbc3",
   "metadata": {},
   "outputs": [],
   "source": [
    "npy_files = Path(\"/Users/nelsschimek/Documents/nancelab/Data/tommy_data/Sham_3/li_thresh/Left_HC\")\n",
    "\n",
    "\n",
    "test_masks = npy_files = list(npy_files.glob(\"*.npy\"))\n",
    "\n",
    "# If you want full paths as strings:\n",
    "npy_file_paths = [str(f) for f in npy_files]\n",
    "(npy_file_paths)"
   ]
  },
  {
   "cell_type": "code",
   "execution_count": null,
   "id": "3def6adc",
   "metadata": {},
   "outputs": [],
   "source": [
    "loaded_masks = [np.load(f) for f in npy_file_paths]"
   ]
  },
  {
   "cell_type": "code",
   "execution_count": null,
   "id": "c6e97180",
   "metadata": {},
   "outputs": [],
   "source": [
    "loaded_masks[0]"
   ]
  },
  {
   "cell_type": "code",
   "execution_count": null,
   "id": "923851ad",
   "metadata": {},
   "outputs": [],
   "source": [
    "columns = 1\n",
    "rows = len(li_masks)\n",
    "\n",
    "fig, axes = plt.subplots(len(loaded_masks), columns, figsize=(10*columns, rows*10))\n",
    "for ax, li in zip(axes, loaded_masks):\n",
    "    ax.imshow(li)\n",
    "   "
   ]
  }
 ],
 "metadata": {
  "kernelspec": {
   "display_name": "vampire",
   "language": "python",
   "name": "python3"
  },
  "language_info": {
   "codemirror_mode": {
    "name": "ipython",
    "version": 3
   },
   "file_extension": ".py",
   "mimetype": "text/x-python",
   "name": "python",
   "nbconvert_exporter": "python",
   "pygments_lexer": "ipython3",
   "version": "3.11.11"
  }
 },
 "nbformat": 4,
 "nbformat_minor": 5
}
