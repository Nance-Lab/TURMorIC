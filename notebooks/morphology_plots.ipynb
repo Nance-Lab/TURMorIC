{
 "cells": [
  {
   "cell_type": "code",
   "execution_count": null,
   "id": "7fa25975",
   "metadata": {},
   "outputs": [],
   "source": [
    "import pandas as pd\n",
    "import numpy as np \n",
    "import matplotlib.pyplot as plt \n",
    "from statannotations.Annotator import Annotator\n",
    "import seaborn as sns\n",
    "import statsmodels\n",
    "from scipy.stats import ttest_ind\n",
    "from itertools import combinations\n",
    "from statsmodels.stats.multitest import multipletests\n",
    "\n",
    "from scipy.stats import kruskal\n",
    "import scikit_posthocs as sp\n"
   ]
  },
  {
   "cell_type": "code",
   "execution_count": null,
   "id": "df1dad0a",
   "metadata": {},
   "outputs": [],
   "source": [
    "regionprops_df = pd.read_csv(\"../../turmoric/jul_3_rot_ogd_regionprops.csv\")\n",
    "regionprops_df = regionprops_df[regionprops_df[\"treatment\"] != \"30mR_control\"]"
   ]
  },
  {
   "cell_type": "code",
   "execution_count": null,
   "id": "c503bcb1",
   "metadata": {},
   "outputs": [],
   "source": [
    "treatments = regionprops_df['treatment'].unique()\n",
    "treatments"
   ]
  },
  {
   "cell_type": "code",
   "execution_count": null,
   "id": "b6fbdefa",
   "metadata": {},
   "outputs": [],
   "source": [
    "groups = [group['aspect_ratio'].values for name, group in regionprops_df.groupby('treatment')]\n",
    "kw_stat, kw_p = kruskal(*groups)\n",
    "print(f\"Kruskal-Wallis p-value: {kw_p:.4e}\")\n",
    "\n"
   ]
  },
  {
   "cell_type": "code",
   "execution_count": null,
   "id": "2908fc8d",
   "metadata": {},
   "outputs": [],
   "source": [
    "# Step 2: Pairwise posthoc Dunn’s test\n",
    "dunn_df = sp.posthoc_dunn(regionprops_df, val_col='aspect_ratio', group_col='treatment', p_adjust=None)\n"
   ]
  },
  {
   "cell_type": "code",
   "execution_count": null,
   "id": "ef342404",
   "metadata": {},
   "outputs": [],
   "source": [
    "# Flatten the p-values and correct\n",
    "pairs = []\n",
    "raw_pvals = []\n",
    "\n",
    "treatments = dunn_df.columns\n",
    "for i in range(len(treatments)):\n",
    "    for j in range(i+1, len(treatments)):\n",
    "        g1, g2 = treatments[i], treatments[j]\n",
    "        pairs.append((g1, g2))\n",
    "        raw_pvals.append(dunn_df.loc[g1, g2])\n",
    "\n",
    "# Apply correction (Bonferroni, Holm, etc.)\n",
    "_, corrected_pvals, _, _ = multipletests(raw_pvals, method='bonferroni')  # or 'bonferroni', 'fdr_bh', etc.\n"
   ]
  },
  {
   "cell_type": "code",
   "execution_count": null,
   "id": "2776547c",
   "metadata": {},
   "outputs": [],
   "source": [
    "# Build final result table\n",
    "results = pd.DataFrame(pairs, columns=['Group1', 'Group2'])\n",
    "results['p_corrected'] = corrected_pvals\n",
    "results['significance'] = results['p_corrected'].apply(\n",
    "    lambda p: 'ns' if p > 0.05 else ('*' if p <= 0.05 else '**' if p <= 0.01 else '***')\n",
    ")\n",
    "\n",
    "print(results)\n",
    "\n",
    "significant_results = results[results['p_corrected'] < 0.05].copy()"
   ]
  },
  {
   "cell_type": "code",
   "execution_count": null,
   "id": "6b5fd9aa",
   "metadata": {},
   "outputs": [],
   "source": [
    "plt.figure(figsize=(16, 12))\n",
    "\n",
    "ax = sns.boxplot(data=regionprops_df, x='treatment', y='aspect_ratio', palette='Set2', )\n",
    "\n",
    "# Optional: Add error bars\n",
    "# ...\n",
    "\n",
    "# Manual annotation\n",
    "# Starting y value (above the max of your data)\n",
    "y_base = regionprops_df['aspect_ratio'].max() * 1.01\n",
    "\n",
    "# How much space between each annotation line\n",
    "y_step = regionprops_df['aspect_ratio'].max() * 0.1\n",
    "\n",
    "for i, row in significant_results.iterrows():\n",
    "    g1, g2 = row['Group1'], row['Group2']\n",
    "    x1 = list(regionprops_df['treatment'].unique()).index(g1)\n",
    "    x2 = list(regionprops_df['treatment'].unique()).index(g2)\n",
    "    \n",
    "    # Vertical offset increases with each comparison\n",
    "    y = y_base + i * y_step\n",
    "    h = y_step * 0.5  # height of the tick\n",
    "\n",
    "    # Draw annotation line and text\n",
    "    ax.plot([x1, x1, x2, x2], [y, y+h, y+h, y], lw=1.5, c='black')\n",
    "    ax.text((x1 + x2) * 0.5, y + h, row['significance'], ha='center', va='bottom', color='black')\n",
    "\n",
    "\n",
    "plt.yscale('log')\n",
    "plt.tight_layout()\n",
    "plt.show()\n"
   ]
  },
  {
   "cell_type": "code",
   "execution_count": null,
   "id": "f16705b0",
   "metadata": {},
   "outputs": [],
   "source": [
    "# Create the plot\n",
    "plt.figure(figsize=(8, 6))\n",
    "sns.set(style=\"whitegrid\")\n",
    "\n",
    "# Scatter (beeswarm) plot\n",
    "#ax = sns.stripplot(data=regionprops_df, x=\"treatment\", y='perimeter', jitter=True, size=1, color=\".3\", alpha=0.5)\n",
    "ax = sns.swarmplot(data=regionprops_df, x=\"treatment\", y='perimeter', size=0.5, palette='Set2', alpha=0.5)\n",
    "\n",
    "# Add mean ± SD bars manually\n",
    "\n",
    "\n",
    "groups = regionprops_df['treatment'].unique()\n",
    "group_means = regionprops_df.groupby(\"treatment\")[\"perimeter\"].mean()\n",
    "group_stds = regionprops_df.groupby(\"treatment\")[\"perimeter\"].std()\n",
    "\n",
    "# for x, group in enumerate(groups):\n",
    "#     mean = group_means[group]\n",
    "#     std = group_stds[group]\n",
    "    \n",
    "#     lower = mean - std\n",
    "#     upper = mean + std\n",
    "\n",
    "#     # Enforce positive range for log scale\n",
    "#     lower = max(lower, 1e-1)\n",
    "    \n",
    "#     ax.plot([x, x], [lower, upper], color='black', linewidth=2)\n",
    "#     ax.plot(x, mean, 'o', color='black')\n",
    "\n",
    "\n",
    "# Generate all pairwise combinations\n",
    "pairs = list(combinations(groups, 2))\n",
    "\n",
    "annotator = Annotator(ax, pairs, data=regionprops_df, x='treatment', y='perimeter')\n",
    "annotator.configure(test='t-test_ind', text_format='star', loc='outside', comparisons_correction=\"bonferroni\")\n",
    "annotator.apply_and_annotate()\n",
    "\n",
    "\n",
    "plt.yscale(\"log\")\n",
    "plt.ylabel(\"Perimeter (Pixels)\")\n",
    "plt.title(\"Perimeter by Group\")\n",
    "plt.tight_layout()\n",
    "plt.show()"
   ]
  },
  {
   "cell_type": "code",
   "execution_count": null,
   "id": "f1706cf1",
   "metadata": {},
   "outputs": [],
   "source": []
  }
 ],
 "metadata": {
  "kernelspec": {
   "display_name": "vampire",
   "language": "python",
   "name": "python3"
  },
  "language_info": {
   "codemirror_mode": {
    "name": "ipython",
    "version": 3
   },
   "file_extension": ".py",
   "mimetype": "text/x-python",
   "name": "python",
   "nbconvert_exporter": "python",
   "pygments_lexer": "ipython3",
   "version": "3.11.11"
  }
 },
 "nbformat": 4,
 "nbformat_minor": 5
}
