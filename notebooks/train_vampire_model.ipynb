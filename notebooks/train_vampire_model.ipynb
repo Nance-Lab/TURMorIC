{
 "cells": [
  {
   "cell_type": "code",
   "execution_count": null,
   "id": "ad0dccf1",
   "metadata": {},
   "outputs": [],
   "source": [
    "import os\n",
    "import numpy as np\n",
    "import pandas as pd\n",
    "import vampire"
   ]
  },
  {
   "cell_type": "code",
   "execution_count": null,
   "id": "0dc50e22",
   "metadata": {},
   "outputs": [],
   "source": [
    "treatment = [\"24R_control\", \"24R_OGD\", \"2R_control\", \"2R_OGD\", \"30mR_control\", \"OGD_only\", \"ORST\"]\n",
    "groups = ['vampire_data']"
   ]
  },
  {
   "cell_type": "code",
   "execution_count": null,
   "id": "d3bbf577",
   "metadata": {},
   "outputs": [],
   "source": [
    "image_set_path = \"/Users/nelsschimek/Documents/nancelab/Data/mito_images/brendan_full_analysis/tifs/training/vampire_data\"\n",
    "\n",
    "vampire.extraction.extract_properties(image_set_path)"
   ]
  },
  {
   "cell_type": "code",
   "execution_count": null,
   "id": "9e940940",
   "metadata": {},
   "outputs": [],
   "source": [
    "build_info_df = pd.DataFrame({\n",
    "    'img_set_path': [image_set_path],\n",
    "    'output_path': [image_set_path],\n",
    "    'model_name': ['li'],\n",
    "    'num_points': [50],\n",
    "    'num_clusters': [5],\n",
    "    'num_pc': [np.nan]\n",
    "})"
   ]
  },
  {
   "cell_type": "code",
   "execution_count": null,
   "id": "6bab620e",
   "metadata": {},
   "outputs": [],
   "source": [
    "vampire.quickstart.fit_models(build_info_df)"
   ]
  },
  {
   "cell_type": "code",
   "execution_count": null,
   "id": "29b8cd1d",
   "metadata": {},
   "outputs": [],
   "source": [
    "model_path = os.path.join('/Users/nelsschimek/Documents/nancelab/Data/mito_images/brendan_full_analysis/tifs/training/vampire_data', 'model_li_(50_5_39)__.pickle')\n",
    "vampire_model = vampire.util.read_pickle(model_path)"
   ]
  },
  {
   "cell_type": "code",
   "execution_count": null,
   "id": "74cb4cce",
   "metadata": {},
   "outputs": [],
   "source": [
    "\n",
    "main_path = \"/Users/nelsschimek/Documents/nancelab/Data/mito_images/brendan_full_analysis/tifs/testing/vampire_data\"\n",
    "\n",
    "apply_info_df = pd.DataFrame({\n",
    "    'img_set_path': [\n",
    "        f\"{main_path}/24R_control\",\n",
    "        f\"{main_path}/24R_OGD\",\n",
    "        f\"{main_path}/2R_control\",\n",
    "        f\"{main_path}/2R_OGD\",\n",
    "        f\"{main_path}/30mR_control\",\n",
    "        f\"{main_path}/OGD_ONLY\",\n",
    "        f\"{main_path}/ORST\",\n",
    "    ],\n",
    "    'model_path': ['/Users/nelsschimek/Documents/nancelab/Data/mito_images/brendan_full_analysis/tifs/training/vampire_data/model_li_(50_5_39)__.pickle',\n",
    "                   '/Users/nelsschimek/Documents/nancelab/Data/mito_images/brendan_full_analysis/tifs/training/vampire_data/model_li_(50_5_39)__.pickle',\n",
    "                   '/Users/nelsschimek/Documents/nancelab/Data/mito_images/brendan_full_analysis/tifs/training/vampire_data/model_li_(50_5_39)__.pickle',\n",
    "                   '/Users/nelsschimek/Documents/nancelab/Data/mito_images/brendan_full_analysis/tifs/training/vampire_data/model_li_(50_5_39)__.pickle',\n",
    "                   '/Users/nelsschimek/Documents/nancelab/Data/mito_images/brendan_full_analysis/tifs/training/vampire_data/model_li_(50_5_39)__.pickle',\n",
    "                   '/Users/nelsschimek/Documents/nancelab/Data/mito_images/brendan_full_analysis/tifs/training/vampire_data/model_li_(50_5_39)__.pickle',\n",
    "                   '/Users/nelsschimek/Documents/nancelab/Data/mito_images/brendan_full_analysis/tifs/training/vampire_data/model_li_(50_5_39)__.pickle'],\n",
    "    'output_path': [\n",
    "        f\"{main_path}/24R_control\",\n",
    "        f\"{main_path}/24R_OGD\",\n",
    "        f\"{main_path}/2R_control\",\n",
    "        f\"{main_path}/2R_OGD\",\n",
    "        f\"{main_path}/30mR_control\",\n",
    "        f\"{main_path}/OGD_ONLY\",\n",
    "        f\"{main_path}/ORST\",\n",
    "    ],\n",
    "    'img_set_name': [\n",
    "        \"24R_control\",\n",
    "        \"24R_OGD\",\n",
    "        \"2R_control\",\n",
    "        \"2R_OGD\",\n",
    "        \"30mR_control\",\n",
    "        \"OGD_ONLY\",\n",
    "        \"ORST\",\n",
    "    ],\n",
    "})"
   ]
  },
  {
   "cell_type": "code",
   "execution_count": null,
   "id": "409178b4",
   "metadata": {},
   "outputs": [],
   "source": [
    "vampire.quickstart.transform_datasets(apply_info_df)"
   ]
  },
  {
   "cell_type": "code",
   "execution_count": null,
   "id": "ba56d69f",
   "metadata": {},
   "outputs": [],
   "source": []
  }
 ],
 "metadata": {
  "kernelspec": {
   "display_name": "vampire",
   "language": "python",
   "name": "python3"
  },
  "language_info": {
   "codemirror_mode": {
    "name": "ipython",
    "version": 3
   },
   "file_extension": ".py",
   "mimetype": "text/x-python",
   "name": "python",
   "nbconvert_exporter": "python",
   "pygments_lexer": "ipython3",
   "version": "3.11.11"
  }
 },
 "nbformat": 4,
 "nbformat_minor": 5
}
